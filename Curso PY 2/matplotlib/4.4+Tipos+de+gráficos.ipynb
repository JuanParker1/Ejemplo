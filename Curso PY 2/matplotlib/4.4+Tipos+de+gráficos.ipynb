{
 "cells": [
  {
   "cell_type": "markdown",
   "metadata": {},
   "source": [
    "<font color=Green>\n",
    "    \n",
    "# **4.4 Tipos de gráficos**\n",
    "\n",
    "</font>"
   ]
  },
  {
   "cell_type": "code",
   "execution_count": 1,
   "metadata": {},
   "outputs": [],
   "source": [
    "import numpy as np\n",
    "import matplotlib.pyplot as plt"
   ]
  },
  {
   "cell_type": "markdown",
   "metadata": {},
   "source": [
    "## <font color=#003d5c> _Gráficos de líneas_ </font>"
   ]
  },
  {
   "cell_type": "code",
   "execution_count": 2,
   "metadata": {},
   "outputs": [
    {
     "data": {
      "text/plain": [
       "Text(0.5, 0, 'Año')"
      ]
     },
     "execution_count": 2,
     "metadata": {},
     "output_type": "execute_result"
    },
    {
     "data": {
      "image/png": "[encoded data removed]",
      "text/plain": [
       "<Figure size 432x288 with 1 Axes>"
      ]
     },
     "metadata": {
      "needs_background": "light"
     },
     "output_type": "display_data"
    }
   ],
   "source": [
    "año = [1950, 1960, 1970, 1980, 1990, 2000, 2010]\n",
    "PIB = [300.2, 543.3, 1075.9, 2862.5, 5979.6, 10289.7, 14958.3]\n",
    "\n",
    "plt.plot(año, PIB, color = 'green', marker = 'o', linestyle = 'solid')\n",
    "\n",
    "plt.title('PIB Nominal')\n",
    "\n",
    "plt.ylabel('Millones de €')\n",
    "\n",
    "plt.xlabel('Año')"
   ]
  },
  {
   "cell_type": "markdown",
   "metadata": {},
   "source": [
    "## <font color=#003d5c> _Scatter plot_ </font>"
   ]
  },
  {
   "cell_type": "code",
   "execution_count": null,
   "metadata": {},
   "outputs": [],
   "source": [
    "x1 = [3, 5, 7]\n",
    "y1 = [3, 5, 9]\n",
    "\n",
    "x2 = [1, 2, 3, 4]\n",
    "y2 = [2, 3, 2, 3]\n",
    "\n",
    "x3 = [8, 7, 2, 5, 4]\n",
    "y3 = [6, 8, 7, 8, 7]\n",
    "\n",
    "plt.scatter(x1, y1)\n",
    "\n",
    "plt.scatter(x2, y2, marker='v', color='r')\n",
    "\n",
    "plt.scatter(x3, y3, marker='^', color='m')\n",
    "\n",
    "plt.title('Ejemplo de Scatter Plot')\n",
    "\n",
    "plt.show()"
   ]
  },
  {
   "cell_type": "markdown",
   "metadata": {},
   "source": [
    "## <font color=#003d5c> _Gráficos de barras_ </font>"
   ]
  },
  {
   "cell_type": "code",
   "execution_count": null,
   "metadata": {},
   "outputs": [],
   "source": [
    "\n",
    "x1 = [1, 3, 4, 5, 6, 7, 9]\n",
    "y1 = [4, 7, 7, 4, 7, 8, 3]\n",
    "\n",
    "x2 = [2, 4, 6, 8, 10]\n",
    "y2 = [5, 6, 2, 6, 2]\n",
    "\n",
    "plt.bar(x1, y1, label=\"Barra azul\", color='b')\n",
    "\n",
    "plt.bar(x2, y2, label=\"Barra verde\", color='g')\n",
    "\n",
    "plt.plot()\n",
    "\n",
    "plt.xlabel(\"Nº barras\")\n",
    "\n",
    "plt.ylabel(\"Altura barras\")\n",
    "\n",
    "plt.title(\"Ejemplo de gráfico de barras\")\n",
    "\n",
    "plt.legend('best')\n",
    "\n",
    "plt.show()"
   ]
  },
  {
   "cell_type": "markdown",
   "metadata": {},
   "source": [
    "## <font color=#003d5c> _Histogramas_ </font>"
   ]
  },
  {
   "cell_type": "code",
   "execution_count": null,
   "metadata": {},
   "outputs": [],
   "source": [
    "y = 5 + np.random.randn(100)\n",
    "\n",
    "x = [e for e in range(len(y))]\n",
    "\n",
    "plt.bar(x, y)\n",
    "\n",
    "plt.title(\"Datos en crudo\")\n",
    "plt.show()\n"
   ]
  },
  {
   "cell_type": "code",
   "execution_count": null,
   "metadata": {},
   "outputs": [],
   "source": [
    "plt.hist(y, bins=20)\n",
    "\n",
    "plt.title(\"Histograma\")\n",
    "plt.show()"
   ]
  },
  {
   "cell_type": "code",
   "execution_count": null,
   "metadata": {},
   "outputs": [],
   "source": [
    "plt.hist(y, cumulative=True, bins=20)\n",
    "\n",
    "plt.title(\"Histograma acumulado\")\n",
    "plt.show()"
   ]
  },
  {
   "cell_type": "markdown",
   "metadata": {},
   "source": [
    "## <font color=#003d5c> _Gráficos apilados_ </font>"
   ]
  },
  {
   "cell_type": "code",
   "execution_count": 4,
   "metadata": {},
   "outputs": [
    {
     "data": {
      "image/png": "[encoded data removed]",
      "text/plain": [
       "<Figure size 432x288 with 1 Axes>"
      ]
     },
     "metadata": {
      "needs_background": "light"
     },
     "output_type": "display_data"
    }
   ],
   "source": [
    "x = [1, 2, 3, 4, 5] \n",
    "y1 = [1, 1, 2, 3, 5] \n",
    "y2 = [0, 4, 2, 6, 8] \n",
    "y3 = [1, 3, 5, 7, 9] \n",
    "  \n",
    "etiquetas = [\"Sector privado\", \"Sector público\", \"Sector informal\"] \n",
    "  \n",
    "fig, panel = plt.subplots() \n",
    "\n",
    "panel.stackplot(x, y1, y2, y3,  \n",
    "                labels = etiquetas,\n",
    "                colors=['r','y','b']) \n",
    "  \n",
    "panel.legend(loc ='upper left') \n",
    "  \n",
    "panel.set_title('Gráfico apilado') \n",
    "\n",
    "plt.show() "
   ]
  },
  {
   "cell_type": "markdown",
   "metadata": {},
   "source": [
    "## <font color=#003d5c> _Gráficos de torta_ </font>"
   ]
  },
  {
   "cell_type": "code",
   "execution_count": 5,
   "metadata": {},
   "outputs": [
    {
     "data": {
      "image/png": "[encoded data removed]",
      "text/plain": [
       "<Figure size 432x288 with 1 Axes>"
      ]
     },
     "metadata": {},
     "output_type": "display_data"
    }
   ],
   "source": [
    "etiquetas = 'Financiero', 'Salud', 'Construcción'\n",
    "sectores = [56, 66, 24]\n",
    "colores = ['c', 'b', 'r']\n",
    "\n",
    "plt.pie(sectores, labels=etiquetas, colors=colores,\n",
    "        startangle=0,\n",
    "        explode = (0, 0.2, 0),\n",
    "        autopct = '%1.2f%%',\n",
    "        shadow = True\n",
    "        )\n",
    "\n",
    "plt.axis('equal') \n",
    "\n",
    "plt.title('Ejemplo de pie chart')\n",
    "plt.show()"
   ]
  },
  {
   "cell_type": "markdown",
   "metadata": {},
   "source": [
    "## <font color=#003d5c> _Boxplot_ </font>"
   ]
  },
  {
   "cell_type": "code",
   "execution_count": null,
   "metadata": {},
   "outputs": [],
   "source": [
    "y1 = np.random.normal(100, 10, 200)\n",
    "y2 = np.random.normal(80, 30, 200)\n",
    "y3 = np.random.normal(90, 20, 200)\n",
    "y4 = np.random.normal(70, 25, 200)\n",
    "\n",
    "\n",
    "data_to_plot = [y1, y2, y3, y4]\n",
    "\n",
    "fig, panel= plt.subplots()\n",
    "\n",
    "panel.set_xticklabels(['Grupo_1', 'Grupo_2', 'Grupo_3', 'Grupo_4'])\n",
    "\n",
    "panel.boxplot(data_to_plot,patch_artist=True)\n",
    "\n",
    "plt.title('Ejemplo de Boxplot')\n",
    "\n",
    "#Elementos del boxplot\n",
    "\n",
    "#for box in bp['boxes']:\n",
    "    #box.set( color='r', linewidth=2)\n",
    "    #box.set( facecolor = 'b' )\n",
    "    \n",
    "#for whisker in bp['whiskers']:\n",
    "    #whisker.set(color='g', linewidth=2)\n",
    "    \n",
    "#for cap in bp['caps']:\n",
    "    #cap.set(color='black', linewidth=4)\n",
    "    \n",
    "#for median in bp['medians']:\n",
    "    #median.set(color='#b2df8a', linewidth=2)\n",
    "    \n",
    "#for flier in bp['fliers']:\n",
    "    #flier.set(marker='*', color='r', alpha=1)\n",
    "    "
   ]
  },
  {
   "cell_type": "code",
   "execution_count": null,
   "metadata": {},
   "outputs": [],
   "source": []
  }
 ],
 "metadata": {
  "kernelspec": {
   "display_name": "Python 3",
   "language": "python",
   "name": "python3"
  },
  "language_info": {
   "codemirror_mode": {
    "name": "ipython",
    "version": 3
   },
   "file_extension": ".py",
   "mimetype": "text/x-python",
   "name": "python",
   "nbconvert_exporter": "python",
   "pygments_lexer": "ipython3",
   "version": "3.10.0"
  }
 },
 "nbformat": 4,
 "nbformat_minor": 4
}
